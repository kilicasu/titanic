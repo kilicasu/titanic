{
 "cells": [
  {
   "cell_type": "markdown",
   "id": "7f6a9137",
   "metadata": {
    "papermill": {
     "duration": 0.006545,
     "end_time": "2025-07-26T12:17:50.925068",
     "exception": false,
     "start_time": "2025-07-26T12:17:50.918523",
     "status": "completed"
    },
    "tags": []
   },
   "source": [
    "# Introduction\n",
    "\n",
    "The sinking of Titanic is one of the most notorious shipwrecks in history. In 1912, during her voyage, the Titanic sank after colliding with an iceberg, killing 1502 out of 2224 passengers and crew.\n",
    "\n",
    "## Contents\n",
    "\n",
    "1. [Load and Check Data](#load-and-check-data)  \n",
    "2. [Variable Description](#variable-description)  \n",
    "    * [Univariate Variable Analysis](#univariate-variable-analysis)  \n",
    "        * [Categorical Variable Analysis](#categorical-variable-analysis)  \n",
    "        * [Numerical Variable Analysis](#numerical-variable-analysis)  \n",
    "3. [Basic Data Analysis](#basic-data-analysis)  \n",
    "4. [Outlier Detection](#outlier-detection)  \n",
    "5. [Missing Value](#missing-value)  \n",
    "    * [Find Missing Value](#find-missing-value)  \n",
    "    * [Fill Missing Value](#fill-missing-value)\n"
   ]
  },
  {
   "cell_type": "code",
   "execution_count": 6,
   "id": "c137f05f",
   "metadata": {
    "_cell_guid": "b1076dfc-b9ad-4769-8c92-a6c4dae69d19",
    "_uuid": "8f2839f25d086af736a60e9eeb907d3b93b6e0e5",
    "papermill": {
     "duration": 3.82418,
     "end_time": "2025-07-26T12:17:54.755189",
     "exception": false,
     "start_time": "2025-07-26T12:17:50.931009",
     "status": "completed"
    },
    "tags": []
   },
   "outputs": [],
   "source": [
    "# This Python 3 environment comes with many helpful analytics libraries installed\n",
    "# It is defined by the kaggle/python Docker image: https://github.com/kaggle/docker-python\n",
    "# For example, here's several helpful packages to load\n",
    "\n",
    "import numpy as np # linear algebra\n",
    "import pandas as pd # data processing, CSV file I/O (e.g. pd.read_csv)\n",
    "\n",
    "import matplotlib.pyplot as plt\n",
    "import seaborn as sns\n",
    "sns.set_style(\"whitegrid\")\n",
    "\n",
    "from collections import Counter\n",
    "\n",
    "import warnings\n",
    "warnings.filterwarnings(\"ignore\")\n",
    "\n",
    "# Input data files are available in the read-only \"../input/\" directory\n",
    "# For example, running this (by clicking run or pressing Shift+Enter) will list all files under the input directory\n",
    "\n",
    "import os\n",
    "for dirname, _, filenames in os.walk('/kaggle/input'):\n",
    "    for filename in filenames:\n",
    "        print(os.path.join(dirname, filename))\n",
    "\n",
    "# You can write up to 20GB to the current directory (/kaggle/working/) that gets preserved as output when you create a version using \"Save & Run All\" \n",
    "# You can also write temporary files to /kaggle/temp/, but they won't be saved outside of the current session"
   ]
  },
  {
   "cell_type": "markdown",
   "id": "d83718da",
   "metadata": {
    "papermill": {
     "duration": 0.00514,
     "end_time": "2025-07-26T12:17:54.766000",
     "exception": false,
     "start_time": "2025-07-26T12:17:54.760860",
     "status": "completed"
    },
    "tags": []
   },
   "source": [
    "# Load and Check Data\n"
   ]
  },
  {
   "cell_type": "code",
   "execution_count": 7,
   "id": "c58a7d0f",
   "metadata": {
    "papermill": {
     "duration": 0.044163,
     "end_time": "2025-07-26T12:17:54.815447",
     "exception": false,
     "start_time": "2025-07-26T12:17:54.771284",
     "status": "completed"
    },
    "tags": []
   },
   "outputs": [
    {
     "ename": "FileNotFoundError",
     "evalue": "[Errno 2] No such file or directory: '/kaggle/input/titanic/train.csv'",
     "output_type": "error",
     "traceback": [
      "\u001b[1;31m---------------------------------------------------------------------------\u001b[0m",
      "\u001b[1;31mFileNotFoundError\u001b[0m                         Traceback (most recent call last)",
      "Cell \u001b[1;32mIn[7], line 1\u001b[0m\n\u001b[1;32m----> 1\u001b[0m train_df \u001b[38;5;241m=\u001b[39m pd\u001b[38;5;241m.\u001b[39mread_csv(\u001b[38;5;124m\"\u001b[39m\u001b[38;5;124m/kaggle/input/titanic/train.csv\u001b[39m\u001b[38;5;124m\"\u001b[39m)\n\u001b[0;32m      2\u001b[0m test_df \u001b[38;5;241m=\u001b[39m  pd\u001b[38;5;241m.\u001b[39mread_csv(\u001b[38;5;124m\"\u001b[39m\u001b[38;5;124m/kaggle/input/titanic/test.csv\u001b[39m\u001b[38;5;124m\"\u001b[39m)\n\u001b[0;32m      3\u001b[0m test_PassengerId \u001b[38;5;241m=\u001b[39m test_df[\u001b[38;5;124m\"\u001b[39m\u001b[38;5;124mPassengerId\u001b[39m\u001b[38;5;124m\"\u001b[39m]\n",
      "File \u001b[1;32mC:\\ProgramData\\anaconda3\\Lib\\site-packages\\pandas\\io\\parsers\\readers.py:1026\u001b[0m, in \u001b[0;36mread_csv\u001b[1;34m(filepath_or_buffer, sep, delimiter, header, names, index_col, usecols, dtype, engine, converters, true_values, false_values, skipinitialspace, skiprows, skipfooter, nrows, na_values, keep_default_na, na_filter, verbose, skip_blank_lines, parse_dates, infer_datetime_format, keep_date_col, date_parser, date_format, dayfirst, cache_dates, iterator, chunksize, compression, thousands, decimal, lineterminator, quotechar, quoting, doublequote, escapechar, comment, encoding, encoding_errors, dialect, on_bad_lines, delim_whitespace, low_memory, memory_map, float_precision, storage_options, dtype_backend)\u001b[0m\n\u001b[0;32m   1013\u001b[0m kwds_defaults \u001b[38;5;241m=\u001b[39m _refine_defaults_read(\n\u001b[0;32m   1014\u001b[0m     dialect,\n\u001b[0;32m   1015\u001b[0m     delimiter,\n\u001b[1;32m   (...)\u001b[0m\n\u001b[0;32m   1022\u001b[0m     dtype_backend\u001b[38;5;241m=\u001b[39mdtype_backend,\n\u001b[0;32m   1023\u001b[0m )\n\u001b[0;32m   1024\u001b[0m kwds\u001b[38;5;241m.\u001b[39mupdate(kwds_defaults)\n\u001b[1;32m-> 1026\u001b[0m \u001b[38;5;28;01mreturn\u001b[39;00m _read(filepath_or_buffer, kwds)\n",
      "File \u001b[1;32mC:\\ProgramData\\anaconda3\\Lib\\site-packages\\pandas\\io\\parsers\\readers.py:620\u001b[0m, in \u001b[0;36m_read\u001b[1;34m(filepath_or_buffer, kwds)\u001b[0m\n\u001b[0;32m    617\u001b[0m _validate_names(kwds\u001b[38;5;241m.\u001b[39mget(\u001b[38;5;124m\"\u001b[39m\u001b[38;5;124mnames\u001b[39m\u001b[38;5;124m\"\u001b[39m, \u001b[38;5;28;01mNone\u001b[39;00m))\n\u001b[0;32m    619\u001b[0m \u001b[38;5;66;03m# Create the parser.\u001b[39;00m\n\u001b[1;32m--> 620\u001b[0m parser \u001b[38;5;241m=\u001b[39m TextFileReader(filepath_or_buffer, \u001b[38;5;241m*\u001b[39m\u001b[38;5;241m*\u001b[39mkwds)\n\u001b[0;32m    622\u001b[0m \u001b[38;5;28;01mif\u001b[39;00m chunksize \u001b[38;5;129;01mor\u001b[39;00m iterator:\n\u001b[0;32m    623\u001b[0m     \u001b[38;5;28;01mreturn\u001b[39;00m parser\n",
      "File \u001b[1;32mC:\\ProgramData\\anaconda3\\Lib\\site-packages\\pandas\\io\\parsers\\readers.py:1620\u001b[0m, in \u001b[0;36mTextFileReader.__init__\u001b[1;34m(self, f, engine, **kwds)\u001b[0m\n\u001b[0;32m   1617\u001b[0m     \u001b[38;5;28mself\u001b[39m\u001b[38;5;241m.\u001b[39moptions[\u001b[38;5;124m\"\u001b[39m\u001b[38;5;124mhas_index_names\u001b[39m\u001b[38;5;124m\"\u001b[39m] \u001b[38;5;241m=\u001b[39m kwds[\u001b[38;5;124m\"\u001b[39m\u001b[38;5;124mhas_index_names\u001b[39m\u001b[38;5;124m\"\u001b[39m]\n\u001b[0;32m   1619\u001b[0m \u001b[38;5;28mself\u001b[39m\u001b[38;5;241m.\u001b[39mhandles: IOHandles \u001b[38;5;241m|\u001b[39m \u001b[38;5;28;01mNone\u001b[39;00m \u001b[38;5;241m=\u001b[39m \u001b[38;5;28;01mNone\u001b[39;00m\n\u001b[1;32m-> 1620\u001b[0m \u001b[38;5;28mself\u001b[39m\u001b[38;5;241m.\u001b[39m_engine \u001b[38;5;241m=\u001b[39m \u001b[38;5;28mself\u001b[39m\u001b[38;5;241m.\u001b[39m_make_engine(f, \u001b[38;5;28mself\u001b[39m\u001b[38;5;241m.\u001b[39mengine)\n",
      "File \u001b[1;32mC:\\ProgramData\\anaconda3\\Lib\\site-packages\\pandas\\io\\parsers\\readers.py:1880\u001b[0m, in \u001b[0;36mTextFileReader._make_engine\u001b[1;34m(self, f, engine)\u001b[0m\n\u001b[0;32m   1878\u001b[0m     \u001b[38;5;28;01mif\u001b[39;00m \u001b[38;5;124m\"\u001b[39m\u001b[38;5;124mb\u001b[39m\u001b[38;5;124m\"\u001b[39m \u001b[38;5;129;01mnot\u001b[39;00m \u001b[38;5;129;01min\u001b[39;00m mode:\n\u001b[0;32m   1879\u001b[0m         mode \u001b[38;5;241m+\u001b[39m\u001b[38;5;241m=\u001b[39m \u001b[38;5;124m\"\u001b[39m\u001b[38;5;124mb\u001b[39m\u001b[38;5;124m\"\u001b[39m\n\u001b[1;32m-> 1880\u001b[0m \u001b[38;5;28mself\u001b[39m\u001b[38;5;241m.\u001b[39mhandles \u001b[38;5;241m=\u001b[39m get_handle(\n\u001b[0;32m   1881\u001b[0m     f,\n\u001b[0;32m   1882\u001b[0m     mode,\n\u001b[0;32m   1883\u001b[0m     encoding\u001b[38;5;241m=\u001b[39m\u001b[38;5;28mself\u001b[39m\u001b[38;5;241m.\u001b[39moptions\u001b[38;5;241m.\u001b[39mget(\u001b[38;5;124m\"\u001b[39m\u001b[38;5;124mencoding\u001b[39m\u001b[38;5;124m\"\u001b[39m, \u001b[38;5;28;01mNone\u001b[39;00m),\n\u001b[0;32m   1884\u001b[0m     compression\u001b[38;5;241m=\u001b[39m\u001b[38;5;28mself\u001b[39m\u001b[38;5;241m.\u001b[39moptions\u001b[38;5;241m.\u001b[39mget(\u001b[38;5;124m\"\u001b[39m\u001b[38;5;124mcompression\u001b[39m\u001b[38;5;124m\"\u001b[39m, \u001b[38;5;28;01mNone\u001b[39;00m),\n\u001b[0;32m   1885\u001b[0m     memory_map\u001b[38;5;241m=\u001b[39m\u001b[38;5;28mself\u001b[39m\u001b[38;5;241m.\u001b[39moptions\u001b[38;5;241m.\u001b[39mget(\u001b[38;5;124m\"\u001b[39m\u001b[38;5;124mmemory_map\u001b[39m\u001b[38;5;124m\"\u001b[39m, \u001b[38;5;28;01mFalse\u001b[39;00m),\n\u001b[0;32m   1886\u001b[0m     is_text\u001b[38;5;241m=\u001b[39mis_text,\n\u001b[0;32m   1887\u001b[0m     errors\u001b[38;5;241m=\u001b[39m\u001b[38;5;28mself\u001b[39m\u001b[38;5;241m.\u001b[39moptions\u001b[38;5;241m.\u001b[39mget(\u001b[38;5;124m\"\u001b[39m\u001b[38;5;124mencoding_errors\u001b[39m\u001b[38;5;124m\"\u001b[39m, \u001b[38;5;124m\"\u001b[39m\u001b[38;5;124mstrict\u001b[39m\u001b[38;5;124m\"\u001b[39m),\n\u001b[0;32m   1888\u001b[0m     storage_options\u001b[38;5;241m=\u001b[39m\u001b[38;5;28mself\u001b[39m\u001b[38;5;241m.\u001b[39moptions\u001b[38;5;241m.\u001b[39mget(\u001b[38;5;124m\"\u001b[39m\u001b[38;5;124mstorage_options\u001b[39m\u001b[38;5;124m\"\u001b[39m, \u001b[38;5;28;01mNone\u001b[39;00m),\n\u001b[0;32m   1889\u001b[0m )\n\u001b[0;32m   1890\u001b[0m \u001b[38;5;28;01massert\u001b[39;00m \u001b[38;5;28mself\u001b[39m\u001b[38;5;241m.\u001b[39mhandles \u001b[38;5;129;01mis\u001b[39;00m \u001b[38;5;129;01mnot\u001b[39;00m \u001b[38;5;28;01mNone\u001b[39;00m\n\u001b[0;32m   1891\u001b[0m f \u001b[38;5;241m=\u001b[39m \u001b[38;5;28mself\u001b[39m\u001b[38;5;241m.\u001b[39mhandles\u001b[38;5;241m.\u001b[39mhandle\n",
      "File \u001b[1;32mC:\\ProgramData\\anaconda3\\Lib\\site-packages\\pandas\\io\\common.py:873\u001b[0m, in \u001b[0;36mget_handle\u001b[1;34m(path_or_buf, mode, encoding, compression, memory_map, is_text, errors, storage_options)\u001b[0m\n\u001b[0;32m    868\u001b[0m \u001b[38;5;28;01melif\u001b[39;00m \u001b[38;5;28misinstance\u001b[39m(handle, \u001b[38;5;28mstr\u001b[39m):\n\u001b[0;32m    869\u001b[0m     \u001b[38;5;66;03m# Check whether the filename is to be opened in binary mode.\u001b[39;00m\n\u001b[0;32m    870\u001b[0m     \u001b[38;5;66;03m# Binary mode does not support 'encoding' and 'newline'.\u001b[39;00m\n\u001b[0;32m    871\u001b[0m     \u001b[38;5;28;01mif\u001b[39;00m ioargs\u001b[38;5;241m.\u001b[39mencoding \u001b[38;5;129;01mand\u001b[39;00m \u001b[38;5;124m\"\u001b[39m\u001b[38;5;124mb\u001b[39m\u001b[38;5;124m\"\u001b[39m \u001b[38;5;129;01mnot\u001b[39;00m \u001b[38;5;129;01min\u001b[39;00m ioargs\u001b[38;5;241m.\u001b[39mmode:\n\u001b[0;32m    872\u001b[0m         \u001b[38;5;66;03m# Encoding\u001b[39;00m\n\u001b[1;32m--> 873\u001b[0m         handle \u001b[38;5;241m=\u001b[39m \u001b[38;5;28mopen\u001b[39m(\n\u001b[0;32m    874\u001b[0m             handle,\n\u001b[0;32m    875\u001b[0m             ioargs\u001b[38;5;241m.\u001b[39mmode,\n\u001b[0;32m    876\u001b[0m             encoding\u001b[38;5;241m=\u001b[39mioargs\u001b[38;5;241m.\u001b[39mencoding,\n\u001b[0;32m    877\u001b[0m             errors\u001b[38;5;241m=\u001b[39merrors,\n\u001b[0;32m    878\u001b[0m             newline\u001b[38;5;241m=\u001b[39m\u001b[38;5;124m\"\u001b[39m\u001b[38;5;124m\"\u001b[39m,\n\u001b[0;32m    879\u001b[0m         )\n\u001b[0;32m    880\u001b[0m     \u001b[38;5;28;01melse\u001b[39;00m:\n\u001b[0;32m    881\u001b[0m         \u001b[38;5;66;03m# Binary mode\u001b[39;00m\n\u001b[0;32m    882\u001b[0m         handle \u001b[38;5;241m=\u001b[39m \u001b[38;5;28mopen\u001b[39m(handle, ioargs\u001b[38;5;241m.\u001b[39mmode)\n",
      "\u001b[1;31mFileNotFoundError\u001b[0m: [Errno 2] No such file or directory: '/kaggle/input/titanic/train.csv'"
     ]
    }
   ],
   "source": [
    "train_df = pd.read_csv(\"/kaggle/input/titanic/train.csv\")\n",
    "test_df =  pd.read_csv(\"/kaggle/input/titanic/test.csv\")\n",
    "test_PassengerId = test_df[\"PassengerId\"]\n"
   ]
  },
  {
   "cell_type": "code",
   "execution_count": null,
   "id": "5fe5c3db",
   "metadata": {
    "papermill": {
     "duration": 0.015742,
     "end_time": "2025-07-26T12:17:54.836705",
     "exception": false,
     "start_time": "2025-07-26T12:17:54.820963",
     "status": "completed"
    },
    "tags": []
   },
   "outputs": [],
   "source": [
    "train_df.columns"
   ]
  },
  {
   "cell_type": "code",
   "execution_count": null,
   "id": "359e858e",
   "metadata": {
    "papermill": {
     "duration": 0.031765,
     "end_time": "2025-07-26T12:17:54.873970",
     "exception": false,
     "start_time": "2025-07-26T12:17:54.842205",
     "status": "completed"
    },
    "tags": []
   },
   "outputs": [],
   "source": [
    "train_df.head()"
   ]
  },
  {
   "cell_type": "code",
   "execution_count": null,
   "id": "10f0ac65",
   "metadata": {
    "papermill": {
     "duration": 0.046555,
     "end_time": "2025-07-26T12:17:54.926213",
     "exception": false,
     "start_time": "2025-07-26T12:17:54.879658",
     "status": "completed"
    },
    "tags": []
   },
   "outputs": [],
   "source": [
    "train_df.describe()"
   ]
  },
  {
   "cell_type": "markdown",
   "id": "5395d889",
   "metadata": {
    "papermill": {
     "duration": 0.00638,
     "end_time": "2025-07-26T12:17:54.938797",
     "exception": false,
     "start_time": "2025-07-26T12:17:54.932417",
     "status": "completed"
    },
    "tags": []
   },
   "source": [
    "\n",
    "# Variable Description\n",
    "1. PassengerId: unique id number to each passenger\n",
    "2. Survived: passenger survive(1) or died(0)\n",
    "3. Pclass: passenger class\n",
    "4. Name: name\n",
    "5. Sex: gender of passenger\n",
    "6. Age: age of passenger\n",
    "7. SibSp: number of siblings/spouses\n",
    "8. Parch: number of parents/children\n",
    "9. Ticket: ticket number\n",
    "10. Fare: amount of money spent on ticket\n",
    "11. Cabin: cabin category\n",
    "12. Embarked: port where passenger embarked (c = cherbourg, Q = Queenstown,S = Southampton)\n",
    "\n",
    "\n",
    "    \n",
    "  "
   ]
  },
  {
   "cell_type": "code",
   "execution_count": null,
   "id": "b3794742",
   "metadata": {
    "papermill": {
     "duration": 0.030611,
     "end_time": "2025-07-26T12:17:54.975387",
     "exception": false,
     "start_time": "2025-07-26T12:17:54.944776",
     "status": "completed"
    },
    "tags": []
   },
   "outputs": [],
   "source": [
    "train_df.info()"
   ]
  },
  {
   "cell_type": "markdown",
   "id": "ab6c0d4e",
   "metadata": {
    "papermill": {
     "duration": 0.005677,
     "end_time": "2025-07-26T12:17:54.987390",
     "exception": false,
     "start_time": "2025-07-26T12:17:54.981713",
     "status": "completed"
    },
    "tags": []
   },
   "source": [
    "* float64(2) : Fare and Age\n",
    "* int64(5) : Pclass, sibsp, parch, passengerId, and survived\n",
    "* object(5) : Cabin, embarked, ticket, name, and sex"
   ]
  },
  {
   "cell_type": "markdown",
   "id": "412a4c4f",
   "metadata": {
    "papermill": {
     "duration": 0.005535,
     "end_time": "2025-07-26T12:17:54.998878",
     "exception": false,
     "start_time": "2025-07-26T12:17:54.993343",
     "status": "completed"
    },
    "tags": []
   },
   "source": [
    "## Univariate Variable Analysis\n",
    " * Categorical Variable: Survived, Sex, Pclass, Embarked, Cabin, Name, Ticket, Sibsp and Parch\n",
    " * Numerical Variable: Fare, Age, PassengerId,\n"
   ]
  },
  {
   "cell_type": "markdown",
   "id": "9eeff37f",
   "metadata": {
    "papermill": {
     "duration": 0.005683,
     "end_time": "2025-07-26T12:17:55.010774",
     "exception": false,
     "start_time": "2025-07-26T12:17:55.005091",
     "status": "completed"
    },
    "tags": []
   },
   "source": [
    "### Categorical Variable"
   ]
  },
  {
   "cell_type": "code",
   "execution_count": null,
   "id": "5f60f67f",
   "metadata": {
    "papermill": {
     "duration": 0.015059,
     "end_time": "2025-07-26T12:17:55.031754",
     "exception": false,
     "start_time": "2025-07-26T12:17:55.016695",
     "status": "completed"
    },
    "tags": []
   },
   "outputs": [],
   "source": [
    "def bar_plot(variable):\n",
    "    \"\"\"\n",
    "       input:variable ex: \"Sex\"\n",
    "       output: bar plot & value count\n",
    "    \"\"\"\n",
    "    # get feature\n",
    "    var = train_df[variable]\n",
    "    # count number of categorical variable(value/sample)\n",
    "    varValue = var.value_counts()\n",
    "\n",
    "    #visualize\n",
    "    plt.figure(figsize=(9,3))\n",
    "    plt.bar(varValue.index, varValue)\n",
    "    plt.xticks(varValue.index, varValue.index.values)\n",
    "    plt.ylabel(\"Frequency\")\n",
    "    plt.title(variable)\n",
    "    plt.show()\n",
    "    print(\"{} : \\n {}\".format(variable,varValue))"
   ]
  },
  {
   "cell_type": "code",
   "execution_count": null,
   "id": "053e044a",
   "metadata": {
    "papermill": {
     "duration": 1.200976,
     "end_time": "2025-07-26T12:17:56.238912",
     "exception": false,
     "start_time": "2025-07-26T12:17:55.037936",
     "status": "completed"
    },
    "tags": []
   },
   "outputs": [],
   "source": [
    "category1 = [\"Survived\",\"Sex\",\"Pclass\",\"Embarked\",\"SibSp\",\"Parch\"]\n",
    "for c in category1:\n",
    "    bar_plot(c)"
   ]
  },
  {
   "cell_type": "code",
   "execution_count": null,
   "id": "4ebe8ec9",
   "metadata": {
    "papermill": {
     "duration": 0.021273,
     "end_time": "2025-07-26T12:17:56.268358",
     "exception": false,
     "start_time": "2025-07-26T12:17:56.247085",
     "status": "completed"
    },
    "tags": []
   },
   "outputs": [],
   "source": [
    " \"Variables that become more complex when visualized.\"\n",
    "category2 = [\"Cabin\",\"Name\",\"Ticket\"]\n",
    "for c in category2:\n",
    "    print(\"{} \\n\".format(train_df[c].value_counts()))\n",
    "    "
   ]
  },
  {
   "cell_type": "markdown",
   "id": "03cd955a",
   "metadata": {
    "papermill": {
     "duration": 0.0078,
     "end_time": "2025-07-26T12:17:56.284397",
     "exception": false,
     "start_time": "2025-07-26T12:17:56.276597",
     "status": "completed"
    },
    "tags": []
   },
   "source": [
    "### Numerical Variable "
   ]
  },
  {
   "cell_type": "code",
   "execution_count": null,
   "id": "6162c708",
   "metadata": {
    "papermill": {
     "duration": 0.015823,
     "end_time": "2025-07-26T12:17:56.308129",
     "exception": false,
     "start_time": "2025-07-26T12:17:56.292306",
     "status": "completed"
    },
    "tags": []
   },
   "outputs": [],
   "source": [
    "def plot_hist(variable):\n",
    "    plt.figure(figsize = (9,3))\n",
    "    plt.hist(train_df[variable])\n",
    "    plt.xlabel(variable)\n",
    "    plt.ylabel(\"Frequency\")\n",
    "    plt.title(\"{} distribution with hist\".format(variable))\n",
    "    plt.show()"
   ]
  },
  {
   "cell_type": "code",
   "execution_count": null,
   "id": "8dbfd6ea",
   "metadata": {
    "papermill": {
     "duration": 0.704359,
     "end_time": "2025-07-26T12:17:57.020596",
     "exception": false,
     "start_time": "2025-07-26T12:17:56.316237",
     "status": "completed"
    },
    "tags": []
   },
   "outputs": [],
   "source": [
    "numericVar = [\"Fare\",\"Age\",\"PassengerId\"]\n",
    "for n in numericVar: \n",
    "    plot_hist(n)"
   ]
  },
  {
   "cell_type": "markdown",
   "id": "7bd88d42",
   "metadata": {
    "papermill": {
     "duration": 0.008921,
     "end_time": "2025-07-26T12:17:57.039447",
     "exception": false,
     "start_time": "2025-07-26T12:17:57.030526",
     "status": "completed"
    },
    "tags": []
   },
   "source": [
    "# Basic Data Analysis\n",
    "* Pclass - Survived\n",
    "* Sex - Survived\n",
    "* SibSp - Survived\n",
    "* Parch - Survived"
   ]
  },
  {
   "cell_type": "code",
   "execution_count": null,
   "id": "f882c2c9",
   "metadata": {
    "papermill": {
     "duration": 0.02736,
     "end_time": "2025-07-26T12:17:57.076104",
     "exception": false,
     "start_time": "2025-07-26T12:17:57.048744",
     "status": "completed"
    },
    "tags": []
   },
   "outputs": [],
   "source": [
    "# Pclass vs Survived\n",
    "train_df[[\"Pclass\",\"Survived\"]].groupby([\"Pclass\"],as_index = False).mean().sort_values(by=\"Survived\",ascending = False)\n"
   ]
  },
  {
   "cell_type": "code",
   "execution_count": null,
   "id": "3935ea2c",
   "metadata": {
    "papermill": {
     "duration": 0.026315,
     "end_time": "2025-07-26T12:17:57.112033",
     "exception": false,
     "start_time": "2025-07-26T12:17:57.085718",
     "status": "completed"
    },
    "tags": []
   },
   "outputs": [],
   "source": [
    "# Sex vs Survived\n",
    "train_df[[\"Sex\",\"Survived\"]].groupby([\"Sex\"],as_index = False).mean().sort_values(by=\"Survived\",ascending = False)"
   ]
  },
  {
   "cell_type": "code",
   "execution_count": null,
   "id": "73f211cf",
   "metadata": {
    "papermill": {
     "duration": 0.026389,
     "end_time": "2025-07-26T12:17:57.148705",
     "exception": false,
     "start_time": "2025-07-26T12:17:57.122316",
     "status": "completed"
    },
    "tags": []
   },
   "outputs": [],
   "source": [
    "# SibSp vs Survived\n",
    "train_df[[\"SibSp\",\"Survived\"]].groupby([\"SibSp\"],as_index = False).mean().sort_values(by = \"Survived\",ascending = False)"
   ]
  },
  {
   "cell_type": "code",
   "execution_count": null,
   "id": "c44925b7",
   "metadata": {
    "papermill": {
     "duration": 0.025869,
     "end_time": "2025-07-26T12:17:57.184515",
     "exception": false,
     "start_time": "2025-07-26T12:17:57.158646",
     "status": "completed"
    },
    "tags": []
   },
   "outputs": [],
   "source": [
    "# Parch vs Survived\n",
    "train_df[[\"Parch\",\"Survived\"]].groupby([\"Parch\"],as_index = False).mean().sort_values(by = \"Survived\", ascending = False)"
   ]
  },
  {
   "cell_type": "code",
   "execution_count": null,
   "id": "e303298d",
   "metadata": {
    "papermill": {
     "duration": 0.02674,
     "end_time": "2025-07-26T12:17:57.222125",
     "exception": false,
     "start_time": "2025-07-26T12:17:57.195385",
     "status": "completed"
    },
    "tags": []
   },
   "outputs": [],
   "source": [
    "# Embarked vs Survived\n",
    "train_df[[\"Embarked\",\"Survived\"]].groupby([\"Embarked\"],as_index = False).mean().sort_values(by = \"Survived\",ascending = False)"
   ]
  },
  {
   "cell_type": "markdown",
   "id": "4856cc9e",
   "metadata": {
    "papermill": {
     "duration": 0.010203,
     "end_time": "2025-07-26T12:17:57.242642",
     "exception": false,
     "start_time": "2025-07-26T12:17:57.232439",
     "status": "completed"
    },
    "tags": []
   },
   "source": [
    "# Outlier Detection"
   ]
  },
  {
   "cell_type": "code",
   "execution_count": null,
   "id": "4beb1402",
   "metadata": {
    "papermill": {
     "duration": 0.021228,
     "end_time": "2025-07-26T12:17:57.274614",
     "exception": false,
     "start_time": "2025-07-26T12:17:57.253386",
     "status": "completed"
    },
    "tags": []
   },
   "outputs": [],
   "source": [
    "def detect_outliers(df, features):\n",
    "    outlier_indices = []\n",
    "\n",
    "    for c in features:\n",
    "        # 1st quartile\n",
    "        Q1 = np.percentile(df[c], 25)\n",
    "        # 3rd quartile\n",
    "        Q3 = np.percentile(df[c], 75)\n",
    "        # IQR\n",
    "        IQR = Q3 - Q1\n",
    "        # Outlier step\n",
    "        outlier_step = IQR * 1.5\n",
    "        # Detect outlier and their indices\n",
    "        outlier_list_col = df[(df[c] < Q1 - outlier_step) | (df[c] > Q3 + outlier_step)].index\n",
    "        # Store indices\n",
    "        outlier_indices.extend(outlier_list_col)\n",
    "\n",
    "    # Count the number of outliers per row index\n",
    "    outlier_indices = Counter(outlier_indices)\n",
    "    # Only keep those that are outliers in more than 2 features\n",
    "    multiple_outliers = [i for i, v in outlier_indices.items() if v > 2]\n",
    "\n",
    "    return multiple_outliers\n",
    "\n"
   ]
  },
  {
   "cell_type": "code",
   "execution_count": null,
   "id": "07a7c50e",
   "metadata": {
    "papermill": {
     "duration": 0.037551,
     "end_time": "2025-07-26T12:17:57.392751",
     "exception": false,
     "start_time": "2025-07-26T12:17:57.355200",
     "status": "completed"
    },
    "tags": []
   },
   "outputs": [],
   "source": [
    "train_df.loc[detect_outliers(train_df,[\"Age\",\"SibSp\",\"Parch\",\"Fare\"])]"
   ]
  },
  {
   "cell_type": "code",
   "execution_count": null,
   "id": "ddcf6fcd",
   "metadata": {
    "papermill": {
     "duration": 0.025475,
     "end_time": "2025-07-26T12:17:57.428643",
     "exception": false,
     "start_time": "2025-07-26T12:17:57.403168",
     "status": "completed"
    },
    "tags": []
   },
   "outputs": [],
   "source": [
    "train_df = train_df.drop(detect_outliers(train_df,[\"Age\",\"SibSp\",\"Parch\",\"Fare\"]),axis = 0).reset_index(drop = True)"
   ]
  },
  {
   "cell_type": "markdown",
   "id": "9bed567f",
   "metadata": {
    "papermill": {
     "duration": 0.010339,
     "end_time": "2025-07-26T12:17:57.449960",
     "exception": false,
     "start_time": "2025-07-26T12:17:57.439621",
     "status": "completed"
    },
    "tags": []
   },
   "source": [
    "# Missing Value\n",
    "* Find Missing Value\n",
    "* Fill Missing Value"
   ]
  },
  {
   "cell_type": "code",
   "execution_count": null,
   "id": "cecf039b",
   "metadata": {
    "papermill": {
     "duration": 0.021703,
     "end_time": "2025-07-26T12:17:57.482490",
     "exception": false,
     "start_time": "2025-07-26T12:17:57.460787",
     "status": "completed"
    },
    "tags": []
   },
   "outputs": [],
   "source": [
    "train_df_len = len(train_df)\n",
    "train_df = pd.concat([train_df,test_df],axis = 0).reset_index(drop = True)"
   ]
  },
  {
   "cell_type": "code",
   "execution_count": null,
   "id": "825e2ea2",
   "metadata": {
    "papermill": {
     "duration": 0.026796,
     "end_time": "2025-07-26T12:17:57.519890",
     "exception": false,
     "start_time": "2025-07-26T12:17:57.493094",
     "status": "completed"
    },
    "tags": []
   },
   "outputs": [],
   "source": [
    "train_df.head()"
   ]
  },
  {
   "cell_type": "markdown",
   "id": "248ff1ed",
   "metadata": {
    "papermill": {
     "duration": 0.010495,
     "end_time": "2025-07-26T12:17:57.541430",
     "exception": false,
     "start_time": "2025-07-26T12:17:57.530935",
     "status": "completed"
    },
    "tags": []
   },
   "source": [
    "## Find Missing Value"
   ]
  },
  {
   "cell_type": "code",
   "execution_count": null,
   "id": "e879f2b5",
   "metadata": {
    "papermill": {
     "duration": 0.022437,
     "end_time": "2025-07-26T12:17:57.574596",
     "exception": false,
     "start_time": "2025-07-26T12:17:57.552159",
     "status": "completed"
    },
    "tags": []
   },
   "outputs": [],
   "source": [
    "train_df.columns[train_df.isnull().any()]"
   ]
  },
  {
   "cell_type": "code",
   "execution_count": null,
   "id": "c456da35",
   "metadata": {
    "papermill": {
     "duration": 0.022716,
     "end_time": "2025-07-26T12:17:57.608600",
     "exception": false,
     "start_time": "2025-07-26T12:17:57.585884",
     "status": "completed"
    },
    "tags": []
   },
   "outputs": [],
   "source": [
    "train_df.isnull().sum()"
   ]
  },
  {
   "cell_type": "markdown",
   "id": "7a3f82a4",
   "metadata": {
    "papermill": {
     "duration": 0.010831,
     "end_time": "2025-07-26T12:17:57.630543",
     "exception": false,
     "start_time": "2025-07-26T12:17:57.619712",
     "status": "completed"
    },
    "tags": []
   },
   "source": [
    "## Fill Missing Value\n",
    "* Embarked has 2 missing value\n",
    "* Fare has only 1"
   ]
  },
  {
   "cell_type": "code",
   "execution_count": null,
   "id": "ac5ffad3",
   "metadata": {
    "papermill": {
     "duration": 0.028474,
     "end_time": "2025-07-26T12:17:57.669797",
     "exception": false,
     "start_time": "2025-07-26T12:17:57.641323",
     "status": "completed"
    },
    "tags": []
   },
   "outputs": [],
   "source": [
    "train_df[train_df[\"Embarked\"].isnull()]"
   ]
  },
  {
   "cell_type": "code",
   "execution_count": null,
   "id": "df224bc5",
   "metadata": {
    "papermill": {
     "duration": 0.258918,
     "end_time": "2025-07-26T12:17:57.939885",
     "exception": false,
     "start_time": "2025-07-26T12:17:57.680967",
     "status": "completed"
    },
    "tags": []
   },
   "outputs": [],
   "source": [
    "train_df.boxplot(column = \"Fare\",by = \"Embarked\")\n",
    "plt.show()"
   ]
  },
  {
   "cell_type": "code",
   "execution_count": null,
   "id": "8c417983",
   "metadata": {
    "papermill": {
     "duration": 0.025492,
     "end_time": "2025-07-26T12:17:57.977637",
     "exception": false,
     "start_time": "2025-07-26T12:17:57.952145",
     "status": "completed"
    },
    "tags": []
   },
   "outputs": [],
   "source": [
    "train_df[\"Embarked\"] = train_df[\"Embarked\"].fillna(\"C\")\n",
    "train_df[train_df[\"Embarked\"].isnull()]"
   ]
  },
  {
   "cell_type": "code",
   "execution_count": null,
   "id": "44865cfe",
   "metadata": {
    "papermill": {
     "duration": 0.028785,
     "end_time": "2025-07-26T12:17:58.018104",
     "exception": false,
     "start_time": "2025-07-26T12:17:57.989319",
     "status": "completed"
    },
    "tags": []
   },
   "outputs": [],
   "source": [
    "train_df[train_df[\"Fare\"].isnull()]"
   ]
  },
  {
   "cell_type": "code",
   "execution_count": null,
   "id": "c2a559e4",
   "metadata": {
    "papermill": {
     "duration": 0.022655,
     "end_time": "2025-07-26T12:17:58.053282",
     "exception": false,
     "start_time": "2025-07-26T12:17:58.030627",
     "status": "completed"
    },
    "tags": []
   },
   "outputs": [],
   "source": [
    "np.mean(train_df[train_df[\"Pclass\"] == 3][\"Fare\"])"
   ]
  },
  {
   "cell_type": "code",
   "execution_count": null,
   "id": "9f53345c",
   "metadata": {
    "papermill": {
     "duration": 0.02181,
     "end_time": "2025-07-26T12:17:58.087137",
     "exception": false,
     "start_time": "2025-07-26T12:17:58.065327",
     "status": "completed"
    },
    "tags": []
   },
   "outputs": [],
   "source": [
    "train_df[\"Fare\"] = train_df[\"Fare\"].fillna(np.mean(train_df[train_df[\"Pclass\"] == 3] [\"Fare\"]))"
   ]
  },
  {
   "cell_type": "code",
   "execution_count": null,
   "id": "f9d9f772-073e-45de-9d3d-3312a066f43f",
   "metadata": {},
   "outputs": [],
   "source": [
    "train_df[train_df[\"Fare\"].isnull()]"
   ]
  }
 ],
 "metadata": {
  "kaggle": {
   "accelerator": "none",
   "dataSources": [
    {
     "databundleVersionId": 26502,
     "sourceId": 3136,
     "sourceType": "competition"
    }
   ],
   "dockerImageVersionId": 31089,
   "isGpuEnabled": false,
   "isInternetEnabled": true,
   "language": "python",
   "sourceType": "notebook"
  },
  "kernelspec": {
   "display_name": "Python 3 (ipykernel)",
   "language": "python",
   "name": "python3"
  },
  "language_info": {
   "codemirror_mode": {
    "name": "ipython",
    "version": 3
   },
   "file_extension": ".py",
   "mimetype": "text/x-python",
   "name": "python",
   "nbconvert_exporter": "python",
   "pygments_lexer": "ipython3",
   "version": "3.12.4"
  },
  "papermill": {
   "default_parameters": {},
   "duration": 12.938169,
   "end_time": "2025-07-26T12:17:58.858159",
   "environment_variables": {},
   "exception": null,
   "input_path": "__notebook__.ipynb",
   "output_path": "__notebook__.ipynb",
   "parameters": {},
   "start_time": "2025-07-26T12:17:45.919990",
   "version": "2.6.0"
  }
 },
 "nbformat": 4,
 "nbformat_minor": 5
}
